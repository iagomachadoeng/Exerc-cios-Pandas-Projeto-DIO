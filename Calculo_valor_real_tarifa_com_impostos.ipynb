{
 "cells": [
  {
   "cell_type": "markdown",
   "id": "2270f3c6",
   "metadata": {},
   "source": [
    "Para calcular o valor real da tarifa, com impostos, é usada a seguinte fórmula:\n",
    "Tarifa_real = tarifa_sem_impostos/(1-ICMS-PIS-COFINS)\n",
    "Esses valores de ICMS, PIS e COFINS variam para cada estado e em alguns estados variam de acordo com a classe(residencial, industrial ou comercial) e consumo do cliente\n",
    "\n",
    "Neste notebook serão utilizados os valores de impostos de acordo com a tarifa ENEL-CE no mês 09/2021\n",
    "\n",
    "Para outros estados basta mudar o valor das variaveis de acordo com os impostos"
   ]
  },
  {
   "cell_type": "code",
   "execution_count": 1,
   "id": "d0c52cec",
   "metadata": {},
   "outputs": [],
   "source": [
    "import pandas as pd"
   ]
  },
  {
   "cell_type": "code",
   "execution_count": 2,
   "id": "10b1f5a9",
   "metadata": {},
   "outputs": [
    {
     "data": {
      "text/html": [
       "<div>\n",
       "<style scoped>\n",
       "    .dataframe tbody tr th:only-of-type {\n",
       "        vertical-align: middle;\n",
       "    }\n",
       "\n",
       "    .dataframe tbody tr th {\n",
       "        vertical-align: top;\n",
       "    }\n",
       "\n",
       "    .dataframe thead th {\n",
       "        text-align: right;\n",
       "    }\n",
       "</style>\n",
       "<table border=\"1\" class=\"dataframe\">\n",
       "  <thead>\n",
       "    <tr style=\"text-align: right;\">\n",
       "      <th></th>\n",
       "      <th>distribuidora</th>\n",
       "      <th>uf</th>\n",
       "      <th>ranking</th>\n",
       "      <th>tarifaConvencional</th>\n",
       "      <th>tarifaBrancaPonta</th>\n",
       "      <th>tarifaBrancaIntermediaria</th>\n",
       "      <th>tarifaBrancaForaPonta</th>\n",
       "      <th>resolHomolog</th>\n",
       "      <th>inicioVigencia</th>\n",
       "    </tr>\n",
       "  </thead>\n",
       "  <tbody>\n",
       "    <tr>\n",
       "      <th>0</th>\n",
       "      <td>Ceral Araruama</td>\n",
       "      <td>RJ</td>\n",
       "      <td>1</td>\n",
       "      <td>1.10767</td>\n",
       "      <td>2.36796</td>\n",
       "      <td>1.56731</td>\n",
       "      <td>0.76665</td>\n",
       "      <td>2867/2021</td>\n",
       "      <td>2021-04-29</td>\n",
       "    </tr>\n",
       "    <tr>\n",
       "      <th>1</th>\n",
       "      <td>Ceres</td>\n",
       "      <td>RJ</td>\n",
       "      <td>2</td>\n",
       "      <td>1.02547</td>\n",
       "      <td>2.30009</td>\n",
       "      <td>1.52190</td>\n",
       "      <td>0.74371</td>\n",
       "      <td>2865/2021</td>\n",
       "      <td>2021-04-29</td>\n",
       "    </tr>\n",
       "    <tr>\n",
       "      <th>2</th>\n",
       "      <td>CERCI</td>\n",
       "      <td>RJ</td>\n",
       "      <td>3</td>\n",
       "      <td>1.02374</td>\n",
       "      <td>2.13380</td>\n",
       "      <td>1.42859</td>\n",
       "      <td>0.72338</td>\n",
       "      <td>2866/2021</td>\n",
       "      <td>2021-04-29</td>\n",
       "    </tr>\n",
       "    <tr>\n",
       "      <th>3</th>\n",
       "      <td>Celpa</td>\n",
       "      <td>PA</td>\n",
       "      <td>4</td>\n",
       "      <td>0.76597</td>\n",
       "      <td>1.75245</td>\n",
       "      <td>1.11070</td>\n",
       "      <td>0.59812</td>\n",
       "      <td>2920/2021</td>\n",
       "      <td>2021-08-07</td>\n",
       "    </tr>\n",
       "    <tr>\n",
       "      <th>4</th>\n",
       "      <td>COOPERNORTE</td>\n",
       "      <td>RS</td>\n",
       "      <td>5</td>\n",
       "      <td>0.76527</td>\n",
       "      <td>1.78433</td>\n",
       "      <td>1.16767</td>\n",
       "      <td>0.55101</td>\n",
       "      <td>2823/2020</td>\n",
       "      <td>2020-12-22</td>\n",
       "    </tr>\n",
       "  </tbody>\n",
       "</table>\n",
       "</div>"
      ],
      "text/plain": [
       "    distribuidora  uf  ranking  tarifaConvencional  tarifaBrancaPonta  \\\n",
       "0  Ceral Araruama  RJ        1             1.10767            2.36796   \n",
       "1           Ceres  RJ        2             1.02547            2.30009   \n",
       "2           CERCI  RJ        3             1.02374            2.13380   \n",
       "3           Celpa  PA        4             0.76597            1.75245   \n",
       "4     COOPERNORTE  RS        5             0.76527            1.78433   \n",
       "\n",
       "   tarifaBrancaIntermediaria  tarifaBrancaForaPonta resolHomolog  \\\n",
       "0                    1.56731                0.76665    2867/2021   \n",
       "1                    1.52190                0.74371    2865/2021   \n",
       "2                    1.42859                0.72338    2866/2021   \n",
       "3                    1.11070                0.59812    2920/2021   \n",
       "4                    1.16767                0.55101    2823/2020   \n",
       "\n",
       "  inicioVigencia  \n",
       "0     2021-04-29  \n",
       "1     2021-04-29  \n",
       "2     2021-04-29  \n",
       "3     2021-08-07  \n",
       "4     2020-12-22  "
      ]
     },
     "execution_count": 2,
     "metadata": {},
     "output_type": "execute_result"
    }
   ],
   "source": [
    "df = pd.read_excel('RankingB1-30-08-2021 (1).xlsx')\n",
    "df = df.rename(columns={\"Distribuidora\":\"distribuidora\", \"UF\": \"uf\", \"Ranking\":\"ranking\", \"Tarifa Convencional\":\"tarifaConvencional\", \"Tarifa Branca - Ponta\":\"tarifaBrancaPonta\", \"Tarifa Branca - Intermediária\": \"tarifaBrancaIntermediaria\", \"Tarifa Branca - Fora ponta\": \"tarifaBrancaForaPonta\",\"Resolução Homologatória\": \"resolHomolog\",\"Início de vigência\": \"inicioVigencia\"})\n",
    "df.head()"
   ]
  },
  {
   "cell_type": "code",
   "execution_count": 45,
   "id": "f16f8ae7",
   "metadata": {},
   "outputs": [],
   "source": [
    "def calculoTarifa(distribuidora):\n",
    "    ICMS = 0.27\n",
    "    PIS = 0.0076\n",
    "    COFINS = 0.0345\n",
    "    \n",
    "    tarifaConvencional = (df.tarifaConvencional[df['distribuidora'] == distribuidora]/(1-ICMS-PIS-COFINS))\n",
    "    tarifaForaPonta = df.tarifaBrancaForaPonta[df['distribuidora'] == distribuidora]/(1-ICMS-PIS-COFINS)\n",
    "    tarifaIntermediaria = df.tarifaBrancaIntermediaria[df['distribuidora'] == distribuidora]/(1-ICMS-PIS-COFINS)\n",
    "    tarifaPonta = df.tarifaBrancaPonta[df['distribuidora'] == distribuidora]/(1-ICMS-PIS-COFINS)\n",
    "    \n",
    "    tarifas=[tarifaConvencional,tarifaForaPonta,tarifaIntermediaria,tarifaPonta]\n",
    "    \n",
    "    \n",
    "    \"\"\"\n",
    "        tarifa = {\n",
    "            'distribuidora': distribuidora\n",
    "            'convencional': tarifaConvencional,\n",
    "            'brancaForaPonta': tarifaForaPonta,\n",
    "            'brancaIntermediaria': tarifaIntermediaria,\n",
    "            'brancaPonta': tarifaPonta\n",
    "        }\n",
    "    \"\"\"\n",
    "    \n",
    "    saida = (\"Tarifas da %s: \\n\"\n",
    "    \"Tarifa Convencional: R$%.5f \\n\"\n",
    "    \"Tarifa Branca Fora Ponta: R$%.5f \\n\"\n",
    "    \"Tarifa Branca Intermediária: R$%.5f \\n\"\n",
    "    \"Tarifa Branca Ponta: R$%.5f \\n\" %(distribuidora, tarifaConvencional, tarifaForaPonta, tarifaIntermediaria, tarifaPonta))\n",
    "    \n",
    "    return print(saida)"
   ]
  },
  {
   "cell_type": "code",
   "execution_count": 46,
   "id": "fbaceb6c",
   "metadata": {},
   "outputs": [
    {
     "name": "stdout",
     "output_type": "stream",
     "text": [
      "Tarifas da Enel CE: \n",
      "Tarifa Convencional: R$0.85591 \n",
      "Tarifa Branca Fora Ponta: R$0.70898 \n",
      "Tarifa Branca Intermediária: R$1.16617 \n",
      "Tarifa Branca Ponta: R$1.84347 \n",
      "\n"
     ]
    }
   ],
   "source": [
    "calculoTarifa('Enel CE')"
   ]
  },
  {
   "cell_type": "code",
   "execution_count": null,
   "id": "da2c2bb6",
   "metadata": {},
   "outputs": [],
   "source": []
  }
 ],
 "metadata": {
  "kernelspec": {
   "display_name": "Python 3",
   "language": "python",
   "name": "python3"
  },
  "language_info": {
   "codemirror_mode": {
    "name": "ipython",
    "version": 3
   },
   "file_extension": ".py",
   "mimetype": "text/x-python",
   "name": "python",
   "nbconvert_exporter": "python",
   "pygments_lexer": "ipython3",
   "version": "3.8.8"
  }
 },
 "nbformat": 4,
 "nbformat_minor": 5
}

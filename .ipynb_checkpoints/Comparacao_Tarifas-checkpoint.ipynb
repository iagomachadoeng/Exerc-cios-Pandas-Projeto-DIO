{
 "cells": [
  {
   "cell_type": "markdown",
   "id": "5436c67f",
   "metadata": {},
   "source": [
    "Esse projeto irá comparar em quais situações é mais vantajoso escolher a tarifa branca em relação a convencional.\n",
    "Comparação com os horários da ENEL-CE para horário fora ponta, intermediário e ponta.\n",
    "ENEL CE\n",
    "Hora Ponta: 17:30 as 20:30\n",
    "Hora Intermediária: 16:30 as 17:30 e 20:30 as 21:30\n",
    "Hora Fora Ponta: Demais horários"
   ]
  },
  {
   "cell_type": "code",
   "execution_count": 1,
   "id": "3ec6d98d",
   "metadata": {},
   "outputs": [],
   "source": [
    "import pandas as pd\n",
    "import matplotlib.pyplot as plt \n",
    "plt.style.use(\"seaborn\")"
   ]
  },
  {
   "cell_type": "code",
   "execution_count": 9,
   "id": "1e821513",
   "metadata": {},
   "outputs": [
    {
     "data": {
      "text/html": [
       "<div>\n",
       "<style scoped>\n",
       "    .dataframe tbody tr th:only-of-type {\n",
       "        vertical-align: middle;\n",
       "    }\n",
       "\n",
       "    .dataframe tbody tr th {\n",
       "        vertical-align: top;\n",
       "    }\n",
       "\n",
       "    .dataframe thead th {\n",
       "        text-align: right;\n",
       "    }\n",
       "</style>\n",
       "<table border=\"1\" class=\"dataframe\">\n",
       "  <thead>\n",
       "    <tr style=\"text-align: right;\">\n",
       "      <th></th>\n",
       "      <th>distribuidora</th>\n",
       "      <th>uf</th>\n",
       "      <th>ranking</th>\n",
       "      <th>tarifaConvencional</th>\n",
       "      <th>tarifaBrancaPonta</th>\n",
       "      <th>tarifaBrancaIntermediaria</th>\n",
       "      <th>tarifaBrancaForaPonta</th>\n",
       "      <th>resolHomolog</th>\n",
       "      <th>inicioVigencia</th>\n",
       "    </tr>\n",
       "  </thead>\n",
       "  <tbody>\n",
       "    <tr>\n",
       "      <th>0</th>\n",
       "      <td>Ceral Araruama</td>\n",
       "      <td>RJ</td>\n",
       "      <td>1</td>\n",
       "      <td>1.10767</td>\n",
       "      <td>2.36796</td>\n",
       "      <td>1.56731</td>\n",
       "      <td>0.76665</td>\n",
       "      <td>2867/2021</td>\n",
       "      <td>2021-04-29</td>\n",
       "    </tr>\n",
       "    <tr>\n",
       "      <th>1</th>\n",
       "      <td>Ceres</td>\n",
       "      <td>RJ</td>\n",
       "      <td>2</td>\n",
       "      <td>1.02547</td>\n",
       "      <td>2.30009</td>\n",
       "      <td>1.52190</td>\n",
       "      <td>0.74371</td>\n",
       "      <td>2865/2021</td>\n",
       "      <td>2021-04-29</td>\n",
       "    </tr>\n",
       "    <tr>\n",
       "      <th>2</th>\n",
       "      <td>CERCI</td>\n",
       "      <td>RJ</td>\n",
       "      <td>3</td>\n",
       "      <td>1.02374</td>\n",
       "      <td>2.13380</td>\n",
       "      <td>1.42859</td>\n",
       "      <td>0.72338</td>\n",
       "      <td>2866/2021</td>\n",
       "      <td>2021-04-29</td>\n",
       "    </tr>\n",
       "    <tr>\n",
       "      <th>3</th>\n",
       "      <td>Celpa</td>\n",
       "      <td>PA</td>\n",
       "      <td>4</td>\n",
       "      <td>0.76597</td>\n",
       "      <td>1.75245</td>\n",
       "      <td>1.11070</td>\n",
       "      <td>0.59812</td>\n",
       "      <td>2920/2021</td>\n",
       "      <td>2021-08-07</td>\n",
       "    </tr>\n",
       "    <tr>\n",
       "      <th>4</th>\n",
       "      <td>COOPERNORTE</td>\n",
       "      <td>RS</td>\n",
       "      <td>5</td>\n",
       "      <td>0.76527</td>\n",
       "      <td>1.78433</td>\n",
       "      <td>1.16767</td>\n",
       "      <td>0.55101</td>\n",
       "      <td>2823/2020</td>\n",
       "      <td>2020-12-22</td>\n",
       "    </tr>\n",
       "  </tbody>\n",
       "</table>\n",
       "</div>"
      ],
      "text/plain": [
       "    distribuidora  uf  ranking  tarifaConvencional  tarifaBrancaPonta  \\\n",
       "0  Ceral Araruama  RJ        1             1.10767            2.36796   \n",
       "1           Ceres  RJ        2             1.02547            2.30009   \n",
       "2           CERCI  RJ        3             1.02374            2.13380   \n",
       "3           Celpa  PA        4             0.76597            1.75245   \n",
       "4     COOPERNORTE  RS        5             0.76527            1.78433   \n",
       "\n",
       "   tarifaBrancaIntermediaria  tarifaBrancaForaPonta resolHomolog  \\\n",
       "0                    1.56731                0.76665    2867/2021   \n",
       "1                    1.52190                0.74371    2865/2021   \n",
       "2                    1.42859                0.72338    2866/2021   \n",
       "3                    1.11070                0.59812    2920/2021   \n",
       "4                    1.16767                0.55101    2823/2020   \n",
       "\n",
       "  inicioVigencia  \n",
       "0     2021-04-29  \n",
       "1     2021-04-29  \n",
       "2     2021-04-29  \n",
       "3     2021-08-07  \n",
       "4     2020-12-22  "
      ]
     },
     "execution_count": 9,
     "metadata": {},
     "output_type": "execute_result"
    }
   ],
   "source": [
    "df = pd.read_excel('RankingB1-30-08-2021 (1).xlsx')\n",
    "df = df.rename(columns={\"Distribuidora\":\"distribuidora\", \"UF\": \"uf\", \"Ranking\":\"ranking\", \"Tarifa Convencional\":\"tarifaConvencional\", \"Tarifa Branca - Ponta\":\"tarifaBrancaPonta\", \"Tarifa Branca - Intermediária\": \"tarifaBrancaIntermediaria\", \"Tarifa Branca - Fora ponta\": \"tarifaBrancaForaPonta\",\"Resolução Homologatória\": \"resolHomolog\",\"Início de vigência\": \"inicioVigencia\"})\n",
    "df.head()"
   ]
  },
  {
   "cell_type": "code",
   "execution_count": 36,
   "id": "86cfc1de",
   "metadata": {},
   "outputs": [
    {
     "name": "stdout",
     "output_type": "stream",
     "text": [
      "['AmE', 'CEA', 'CEB-DIS', 'CEEE-D', 'CEGERO', 'CELETRO', 'CERCI', 'CERFOX', 'CERMC', 'CERRP', 'CERTHIL', 'CERVAM', 'COOPERNORTE', 'COOPERSUL', 'COOPERZEM', 'CPFL Paulista', 'CPFL Piratininga', 'CPFL Santa Cruz (agrupada)', 'Castro - DIS', 'Ceal', 'Cedrap', 'Cedri', 'Cejama', 'Celesc-DIS', 'Celpa', 'Celpe', 'Cemar', 'Cemig-D', 'Cemirim', 'Cepisa', 'Ceprag', 'Ceral Anitápolis', 'Ceral Araruama', 'Ceral DIS', 'Ceraça', 'Cerbranorte', 'Cercos', 'Cerej', 'Ceres', 'Cergal', 'Cergapa', 'Cergral', 'Ceriluz', 'Cerim', 'Ceripa', 'Ceris', 'Cermissões', 'Cermoful', 'Cernhe', 'Ceron', 'Cerpalo', 'Cerpro', 'Cersad', 'Cersul', 'Certaja', 'Certel', 'Certrel', 'Cetril', 'Chesp', 'Cocel', 'Codesam', 'Coelba', 'Coopera', 'Cooperaliança', 'Coopercocal', 'Cooperluz', 'Coopermila', 'Coorsel', 'Copel-DIS', 'Coprel', 'Cosern', 'Creluz-D', 'Creral', 'DMED', 'Demei', 'EBO', 'EDP ES', 'EDP SP', 'EFLJC', 'ELFSM', 'EMG', 'EMS', 'EMT', 'ENEL GO', 'ENF', 'EPB', 'ESE', 'ESS (agrupada)', 'ETO', 'Eflul', 'Elektro', 'Eletroacre', 'Eletrocar', 'Enel CE', 'Enel RJ', 'Enel SP', 'Forcel', 'Hidropan', 'Ienergia', 'Light', 'MuxEnergia', 'RGE (agrupada)', 'Roraima Energia', 'Sulgipe', 'Uhenpal']\n"
     ]
    }
   ],
   "source": [
    "#Lista das Distribuidoras para usar na função:\n",
    "distri_brasil = df.distribuidora.unique()\n",
    "print(sorted(distri_brasil))"
   ]
  },
  {
   "cell_type": "code",
   "execution_count": null,
   "id": "92e33a32",
   "metadata": {},
   "outputs": [],
   "source": [
    "#Consumo mensal de energia em kWh"
   ]
  },
  {
   "cell_type": "markdown",
   "id": "638a92f6",
   "metadata": {},
   "source": [
    "Serão definidos 3 perfis para análise: \n",
    "i) Residencial: Casal sem filhos que trabalha fora de casa, chegam em casa depois das 18h\n",
    "    \n",
    "ii) Comercial (Loja): Funcionamento de 08:00 as 18:00 com consumo constante de segunda a sábado\n",
    "    \n",
    "iii) Industrial: Funcionamento de 07:00 as 17:00 de segunda a sexta"
   ]
  },
  {
   "cell_type": "code",
   "execution_count": 29,
   "id": "29b68faa",
   "metadata": {},
   "outputs": [],
   "source": [
    "def calculoComparativo(distribuidora, categoriaConsumo,consumoMensal):\n",
    "    #Esses valores são estimativas e variam de acordo com o perfil de consumo\n",
    "    tarifaConvencional = df.tarifaConvencional[df['distribuidora'] == distribuidora]\n",
    "    tarifaForaPonta = df.tarifaBrancaForaPonta[df['distribuidora'] == distribuidora]\n",
    "    tarifaIntermediaria = df.tarifaBrancaIntermediaria[df['distribuidora'] == distribuidora]\n",
    "    tarifaPonta = df.tarifaBrancaPonta[df['distribuidora'] == distribuidora]\n",
    "    \n",
    "    if categoriaConsumo == 'Residencial':\n",
    "        consumo_fora_ponta = 0.60\n",
    "        consumo_intermediario = 0.10\n",
    "        consumo_hora_ponta = 0.30\n",
    "        #Essas porcentagens podem variar de acordo com o perfil de consumo do cliente\n",
    "        #Consulte um Engenheiro Eletricista para maiores informações\n",
    "    \n",
    "    if categoriaConsumo == 'Comercial':\n",
    "        consumo_fora_ponta = 0.80\n",
    "        consumo_intermediario = 0.12\n",
    "        consumo_hora_ponta = 0.08\n",
    "    \n",
    "    if categoriaConsumo == 'Industrial':\n",
    "        consumo_fora_ponta = 0.95\n",
    "        consumo_intermediario = 0.025\n",
    "        consumo_hora_ponta = 0.025\n",
    "    \n",
    "    gastoConvencional = consumoMensal*tarifaConvencional\n",
    "    gastoTarifaBranca = consumoMensal*(consumo_fora_ponta*tarifaForaPonta+consumo_intermediario*tarifaIntermediaria+consumo_hora_ponta*tarifaPonta) \n",
    "    return print('O gasto mensal com a tarifa convencional é R$%.2f e com a tarifa Branca é R$%.2f' %(gastoConvencional, gastoTarifaBranca))"
   ]
  },
  {
   "cell_type": "code",
   "execution_count": 37,
   "id": "3202a91b",
   "metadata": {},
   "outputs": [
    {
     "name": "stdout",
     "output_type": "stream",
     "text": [
      "O gasto mensal com a tarifa convencional é R$2943.90 e com a tarifa Branca é R$3766.41\n"
     ]
    }
   ],
   "source": [
    "calculoComparativo('Enel CE', 'Residencial', 5000)"
   ]
  },
  {
   "cell_type": "code",
   "execution_count": 34,
   "id": "0fc0cdde",
   "metadata": {},
   "outputs": [
    {
     "name": "stdout",
     "output_type": "stream",
     "text": [
      "O gasto mensal com a tarifa convencional é R$2943.90 e com a tarifa Branca é R$2939.41\n"
     ]
    }
   ],
   "source": [
    "calculoComparativo('Enel CE', 'Comercial', 5000)"
   ]
  },
  {
   "cell_type": "code",
   "execution_count": 35,
   "id": "54c6cc6b",
   "metadata": {},
   "outputs": [
    {
     "name": "stdout",
     "output_type": "stream",
     "text": [
      "O gasto mensal com a tarifa convencional é R$2943.90 e com a tarifa Branca é R$2575.41\n"
     ]
    }
   ],
   "source": [
    "calculoComparativo('Enel CE', 'Industrial', 5000)"
   ]
  },
  {
   "cell_type": "markdown",
   "id": "7fcd2899",
   "metadata": {},
   "source": [
    "Ou seja, dependendo do perfil de consumo o consumidor consegue ter uma grande economia adotando a tarifa branca.\n",
    "Ela é recomendada para quem não consome energia, ou consome muito pouco, durante o horário intermediário e ponta,\n",
    "que é de 16:30 até 21:30 para a ENEL CE e pode variar para outras concessionárias.\n",
    "\n",
    "É importante lembrar que essas tarifas estão sem impostos, retiradas diretamente da ANEEL, por isso os valores estão\n",
    "mais baixos que os valores que constam nas faturas reais."
   ]
  }
 ],
 "metadata": {
  "kernelspec": {
   "display_name": "Python 3",
   "language": "python",
   "name": "python3"
  },
  "language_info": {
   "codemirror_mode": {
    "name": "ipython",
    "version": 3
   },
   "file_extension": ".py",
   "mimetype": "text/x-python",
   "name": "python",
   "nbconvert_exporter": "python",
   "pygments_lexer": "ipython3",
   "version": "3.8.8"
  }
 },
 "nbformat": 4,
 "nbformat_minor": 5
}
